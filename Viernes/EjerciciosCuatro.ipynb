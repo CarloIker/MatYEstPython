{
 "cells": [
  {
   "cell_type": "code",
   "execution_count": 1,
   "id": "97fee6bd",
   "metadata": {},
   "outputs": [],
   "source": [
    "import matplotlib.pyplot as plt\n",
    "import numpy as np\n",
    "import statistics as sts"
   ]
  },
  {
   "cell_type": "markdown",
   "id": "66042556",
   "metadata": {},
   "source": [
    "# <font color=\"darkblue\">Ejercicio Cuatro Uno</font>"
   ]
  },
  {
   "cell_type": "markdown",
   "id": "44cbb753",
   "metadata": {},
   "source": [
    "Los datos siguientes muestran los pesos de 50 estudiantes que se registraron con\n",
    "aproximación de una libra.\n",
    "159 136 180 129 162 150 129 146 128 178 144 167 132 172 156 178 129 142\n",
    "146 159 131 135 168 152 163 145 173 147 137 143 142 133 152 166 146 131\n",
    "131 160 162 146 151 179 146 142 172 175 166 137 162 159"
   ]
  },
  {
   "cell_type": "markdown",
   "id": "938b9508",
   "metadata": {},
   "source": [
    "## El valor más grande"
   ]
  },
  {
   "cell_type": "code",
   "execution_count": 55,
   "id": "39b251da",
   "metadata": {},
   "outputs": [
    {
     "name": "stdout",
     "output_type": "stream",
     "text": [
      "El peso máximo es: 180.0\n"
     ]
    }
   ],
   "source": [
    "arg1 = np.loadtxt('./4D1.csv',delimiter=\" \",dtype=np.float64)\n",
    "print(\"El peso máximo es:\", np.max(arg1))"
   ]
  },
  {
   "cell_type": "markdown",
   "id": "1a278172",
   "metadata": {},
   "source": [
    "## El valor más pequeño"
   ]
  },
  {
   "cell_type": "code",
   "execution_count": 5,
   "id": "8d74187b",
   "metadata": {
    "scrolled": true
   },
   "outputs": [
    {
     "name": "stdout",
     "output_type": "stream",
     "text": [
      "El peso mínimo: 128.0\n"
     ]
    }
   ],
   "source": [
    "print(\"El peso mínimo:\", np.min(arg1))"
   ]
  },
  {
   "cell_type": "markdown",
   "id": "f2068add",
   "metadata": {},
   "source": [
    "## Obtuvieron 125(datos 1) o mas"
   ]
  },
  {
   "cell_type": "code",
   "execution_count": 7,
   "id": "794ee707",
   "metadata": {},
   "outputs": [
    {
     "name": "stdout",
     "output_type": "stream",
     "text": [
      "Cantidad de estudiantes con peso mayor o igual a 125lb: 50\n"
     ]
    }
   ],
   "source": [
    "suma1 = np.where(arg1 >= 125, 1,0).sum()\n",
    "print(\"Cantidad de estudiantes con peso mayor o igual a 125lb:\",suma1)"
   ]
  },
  {
   "cell_type": "markdown",
   "id": "4c04943a",
   "metadata": {},
   "source": [
    "## Obtuvieron 138(datos 1) o menos"
   ]
  },
  {
   "cell_type": "code",
   "execution_count": 10,
   "id": "75fd2511",
   "metadata": {},
   "outputs": [
    {
     "name": "stdout",
     "output_type": "stream",
     "text": [
      "Cantidad de estudiantes con peso menor o igual a 138lb: 10\n"
     ]
    }
   ],
   "source": [
    "suma1 = np.where(arg1 <= 135, 1,0).sum()\n",
    "print(\"Cantidad de estudiantes con peso menor o igual a 138lb:\",suma1)"
   ]
  },
  {
   "cell_type": "markdown",
   "id": "aebb0169",
   "metadata": {},
   "source": [
    "## Porcentaje de valores (129<=x>=146, dato1)"
   ]
  },
  {
   "cell_type": "code",
   "execution_count": 29,
   "id": "842dce08",
   "metadata": {},
   "outputs": [
    {
     "name": "stdout",
     "output_type": "stream",
     "text": [
      "[136. 129. 129. 146. 144. 132. 129. 142. 146. 131. 135. 145. 137. 143.\n",
      " 142. 133. 146. 131. 131. 146. 146. 142. 137.]\n",
      "El porcentaje es: 46.0 %\n"
     ]
    }
   ],
   "source": [
    "porcentaje1 = np.where((arg1 >= 129) & (arg1 <= 146),1,0).sum()/np.size(arg1)\n",
    "valores1 = np.where((arg1 >= 129) & (arg1 <= 146))\n",
    "for i in valores1:\n",
    "    print(arg1[i])\n",
    "print(\"El porcentaje es:\",porcentaje1*100,\"%\")"
   ]
  },
  {
   "cell_type": "markdown",
   "id": "b615bcbd",
   "metadata": {},
   "source": [
    "## Frecuencias absolutas simples"
   ]
  },
  {
   "cell_type": "code",
   "execution_count": 33,
   "id": "f018c675",
   "metadata": {},
   "outputs": [
    {
     "name": "stdout",
     "output_type": "stream",
     "text": [
      "[1 3 3 1 1 1 1 2 3 1 1 1 5 1 1 1 2 1 3 1 3 1 2 1 1 2 1 1 2 1 1]\n"
     ]
    }
   ],
   "source": [
    "variables,repetidas = np.unique(arg1,return_counts=True)\n",
    "frecuencias_absolutas_simples = repetidas\n",
    "print(frecuencias_absolutas_simples)"
   ]
  },
  {
   "cell_type": "markdown",
   "id": "83270b68",
   "metadata": {},
   "source": [
    "## Frecuencias absolutas acumuladas"
   ]
  },
  {
   "cell_type": "code",
   "execution_count": 37,
   "id": "6a7218bd",
   "metadata": {},
   "outputs": [
    {
     "name": "stdout",
     "output_type": "stream",
     "text": [
      "[ 1  4  7  8  9 10 11 13 16 17 18 19 24 25 26 27 29 30 33 34 37 38 40 41\n",
      " 42 44 45 46 48 49 50]\n"
     ]
    }
   ],
   "source": [
    "frecuencias_absolutas_acumuladas = np.cumsum(frecuencias_absolutas_simples)\n",
    "print(frecuencias_absolutas_acumuladas)"
   ]
  },
  {
   "cell_type": "markdown",
   "id": "6b6f4079",
   "metadata": {},
   "source": [
    "## Frecuencias relativas simples"
   ]
  },
  {
   "cell_type": "code",
   "execution_count": 40,
   "id": "17e3d400",
   "metadata": {},
   "outputs": [
    {
     "name": "stdout",
     "output_type": "stream",
     "text": [
      "[ 2.  6.  6.  2.  2.  2.  2.  4.  6.  2.  2.  2. 10.  2.  2.  2.  4.  2.\n",
      "  6.  2.  6.  2.  4.  2.  2.  4.  2.  2.  4.  2.  2.]\n"
     ]
    }
   ],
   "source": [
    "frecuencias_relativas_simples = np.round((frecuencias_absolutas_simples/np.size(arg1))*100)\n",
    "print(frecuencias_relativas_simples)"
   ]
  },
  {
   "cell_type": "markdown",
   "id": "df4a895e",
   "metadata": {},
   "source": [
    "## Frecuencias relativas acumuladas"
   ]
  },
  {
   "cell_type": "code",
   "execution_count": 42,
   "id": "ac844163",
   "metadata": {},
   "outputs": [
    {
     "name": "stdout",
     "output_type": "stream",
     "text": [
      "[  2.   8.  14.  16.  18.  20.  22.  26.  32.  34.  36.  38.  48.  50.\n",
      "  52.  54.  58.  60.  66.  68.  74.  76.  80.  82.  84.  88.  90.  92.\n",
      "  96.  98. 100.]\n"
     ]
    }
   ],
   "source": [
    "frecuencias_relativas_acumuladas = np.cumsum(frecuencias_relativas_simples)\n",
    "print(frecuencias_relativas_acumuladas)"
   ]
  },
  {
   "cell_type": "markdown",
   "id": "b11b3103",
   "metadata": {},
   "source": [
    "## Media aritmética valores agrupados"
   ]
  },
  {
   "cell_type": "code",
   "execution_count": 48,
   "id": "590c1b8d",
   "metadata": {},
   "outputs": [
    {
     "name": "stdout",
     "output_type": "stream",
     "text": [
      "151.48\n"
     ]
    }
   ],
   "source": [
    "ma_agrupados = variables * repetidas\n",
    "print(np.sum(ma_agrupados)/np.size(arg1))"
   ]
  },
  {
   "cell_type": "markdown",
   "id": "1c88accb",
   "metadata": {},
   "source": [
    "## Media aritmética de valores no agrupados"
   ]
  },
  {
   "cell_type": "code",
   "execution_count": 51,
   "id": "36756d50",
   "metadata": {},
   "outputs": [
    {
     "name": "stdout",
     "output_type": "stream",
     "text": [
      "151.48\n"
     ]
    }
   ],
   "source": [
    "print(np.sum(arg1)/np.size(arg1))"
   ]
  },
  {
   "cell_type": "markdown",
   "id": "64120c86",
   "metadata": {},
   "source": [
    "## Media Geométrica"
   ]
  },
  {
   "cell_type": "code",
   "execution_count": 62,
   "id": "a7c3d3e4",
   "metadata": {},
   "outputs": [
    {
     "name": "stdout",
     "output_type": "stream",
     "text": [
      "**************** Datos agrupados *****************\n",
      "150.68719926634367\n",
      "*************** Datos no agrupados ***************\n",
      "150.68719926634364\n",
      "******** Media Geométrica con statistics *********\n",
      "150.68719926634367\n"
     ]
    }
   ],
   "source": [
    "print(\" Datos agrupados \".center(50,\"*\"))\n",
    "media_g_agrupados=np.power(np.product(variables**repetidas),1/np.size(arg1))\n",
    "print(media_g_agrupados)\n",
    "print(\" Datos no agrupados \".center(50,\"*\"))\n",
    "media_g_noagrupados=np.power(np.product(arg1),1/np.size(arg1))\n",
    "print(media_g_noagrupados)\n",
    "print(\" Media Geométrica con statistics \".center(50,\"*\"))\n",
    "print(sts.geometric_mean(arg1))"
   ]
  },
  {
   "cell_type": "markdown",
   "id": "dc6a33d7",
   "metadata": {},
   "source": [
    "## Media Armónica H"
   ]
  },
  {
   "cell_type": "code",
   "execution_count": 64,
   "id": "d9d536c8",
   "metadata": {},
   "outputs": [
    {
     "name": "stdout",
     "output_type": "stream",
     "text": [
      "149.90230829714335\n"
     ]
    }
   ],
   "source": [
    "print(sts.harmonic_mean(arg1))"
   ]
  },
  {
   "cell_type": "markdown",
   "id": "507080a1",
   "metadata": {},
   "source": [
    "## Mediana"
   ]
  },
  {
   "cell_type": "code",
   "execution_count": 66,
   "id": "6cb0e6cc",
   "metadata": {},
   "outputs": [
    {
     "name": "stdout",
     "output_type": "stream",
     "text": [
      "148.5\n"
     ]
    }
   ],
   "source": [
    "print(np.median(arg1))"
   ]
  },
  {
   "cell_type": "markdown",
   "id": "ddbb9d75",
   "metadata": {},
   "source": [
    "## Moda"
   ]
  },
  {
   "cell_type": "code",
   "execution_count": 68,
   "id": "839a7af2",
   "metadata": {},
   "outputs": [
    {
     "name": "stdout",
     "output_type": "stream",
     "text": [
      "146.0\n"
     ]
    }
   ],
   "source": [
    "print(sts.mode(arg1))"
   ]
  },
  {
   "cell_type": "markdown",
   "id": "392d8a74",
   "metadata": {},
   "source": [
    "## Múltiples Modas (si las hay)"
   ]
  },
  {
   "cell_type": "code",
   "execution_count": 70,
   "id": "b7b05e36",
   "metadata": {},
   "outputs": [
    {
     "name": "stdout",
     "output_type": "stream",
     "text": [
      "[146.0]\n"
     ]
    }
   ],
   "source": [
    "print(sts.multimode(arg1))"
   ]
  },
  {
   "cell_type": "markdown",
   "id": "1e4326e0",
   "metadata": {},
   "source": [
    "## Cuartiles"
   ]
  },
  {
   "cell_type": "code",
   "execution_count": 72,
   "id": "137f76ba",
   "metadata": {},
   "outputs": [
    {
     "name": "stdout",
     "output_type": "stream",
     "text": [
      "[137.0, 148.5, 163.75]\n"
     ]
    }
   ],
   "source": [
    "print([round(q, 2) for q in sts.quantiles(arg1, n=4)])"
   ]
  },
  {
   "cell_type": "markdown",
   "id": "0ed12f0c",
   "metadata": {},
   "source": [
    "## Deciles"
   ]
  },
  {
   "cell_type": "code",
   "execution_count": 75,
   "id": "2f1d62a4",
   "metadata": {
    "scrolled": true
   },
   "outputs": [
    {
     "name": "stdout",
     "output_type": "stream",
     "text": [
      "[131.0, 135.2, 142.0, 146.0, 148.5, 157.8, 162.0, 166.8, 174.8]\n"
     ]
    }
   ],
   "source": [
    "print([round(q, 2) for q in sts.quantiles(arg1, n=10)])"
   ]
  },
  {
   "cell_type": "markdown",
   "id": "80492af3",
   "metadata": {},
   "source": [
    "## Percentiles"
   ]
  },
  {
   "cell_type": "code",
   "execution_count": 78,
   "id": "fb2e1935",
   "metadata": {},
   "outputs": [
    {
     "name": "stdout",
     "output_type": "stream",
     "text": [
      "[127.51, 128.02, 128.53, 129.0, 129.0, 129.0, 129.0, 129.16, 130.18, 131.0, 131.0, 131.0, 131.0, 131.14, 131.65, 132.16, 132.67, 133.36, 134.38, 135.2, 135.71, 136.22, 136.73, 137.0, 137.0, 138.3, 140.85, 142.0, 142.0, 142.0, 142.0, 142.32, 142.83, 143.34, 143.85, 144.36, 144.87, 145.38, 145.89, 146.0, 146.0, 146.0, 146.0, 146.0, 146.0, 146.0, 146.0, 146.48, 146.99, 148.5, 150.01, 150.52, 151.03, 151.54, 152.0, 152.0, 152.28, 154.32, 156.27, 157.8, 159.0, 159.0, 159.0, 159.0, 159.15, 159.66, 160.34, 161.36, 162.0, 162.0, 162.0, 162.0, 162.23, 162.74, 163.75, 165.28, 166.0, 166.0, 166.29, 166.8, 167.31, 167.82, 169.32, 171.36, 172.0, 172.0, 172.37, 172.88, 173.78, 174.8, 176.23, 177.76, 178.0, 178.0, 178.45, 178.96, 179.47, 179.98, 180.49]\n"
     ]
    }
   ],
   "source": [
    "print([round(q, 2) for q in sts.quantiles(arg1, n=100)])"
   ]
  },
  {
   "cell_type": "markdown",
   "id": "f6e7ce55",
   "metadata": {},
   "source": [
    "## Histograma"
   ]
  },
  {
   "cell_type": "code",
   "execution_count": 195,
   "id": "ca40e0a2",
   "metadata": {},
   "outputs": [
    {
     "name": "stdout",
     "output_type": "stream",
     "text": [
      "(array([8., 5., 3., 9., 4., 1., 7., 4., 4.]), array([128, 133, 138, 143, 148, 153, 158, 163, 168, 173], dtype=int16), <BarContainer object of 9 artists>)\n"
     ]
    },
    {
     "data": {
      "image/png": "[encoded data removed]",
      "text/plain": [
       "<Figure size 432x288 with 1 Axes>"
      ]
     },
     "metadata": {
      "needs_background": "light"
     },
     "output_type": "display_data"
    }
   ],
   "source": [
    "arg1 = np.sort(np.reshape(arg1,np.size(arg1)))\n",
    "rango=arg1[49]-arg1[0]\n",
    "intervalos=rango/10\n",
    "b=np.arange(arg1[0],arg1[49],intervalos,dtype=np.int16)\n",
    "fig, ax = plt.subplots()\n",
    "intervalos_clase=ax.hist(arg1, bins=b,range=(arg1[0],arg1[49]), linewidth=0.5, color=\"darkblue\", edgecolor=\"white\")\n",
    "ax.set_facecolor('black')\n",
    "plt.xticks(fontsize=8)\n",
    "ax.set(xlim=(123, 178), xticks=intervalos_clase[1],\n",
    "       ylim=(0, 10), yticks=np.arange(1, 10, 1,dtype=np.int16))\n",
    "print(intervalos_clase)\n",
    "ax.grid(axis='y')"
   ]
  },
  {
   "cell_type": "markdown",
   "id": "faa0095a",
   "metadata": {},
   "source": [
    "# <font color=\"darkblue\">Ejercicio Cuatro Dos</font>"
   ]
  },
  {
   "cell_type": "markdown",
   "id": "2987c43f",
   "metadata": {},
   "source": [
    "Se obtuvo la medición de una serie de tornillos que se tienen que embarcar, pero se\n",
    "quiere sacar una estadística descriptiva de las mediciones.\n",
    "1.34 1.2 1.41 1.52 1.49 1.3 1.24 1.29 1.53 1.55 1.37 1.56 1.56 1.39\n",
    "1.39 1.51 1.59 1.54 1.29 1.44 1.5 1.22 1.32 1.42 1.42 1.6 1.58 1.31\n",
    "1.45 1.29 1.51 1.4 1.29 1.57 1.24 1.44 1.28 1.52 1.49 1.41 1.32 1.31\n",
    "1.23 1.25 1.57 1.53 1.35 1.57 1.50 1.49"
   ]
  },
  {
   "cell_type": "markdown",
   "id": "435af6bb",
   "metadata": {},
   "source": [
    "## El valor más grande"
   ]
  },
  {
   "cell_type": "code",
   "execution_count": 107,
   "id": "eb238af8",
   "metadata": {
    "scrolled": true
   },
   "outputs": [
    {
     "name": "stdout",
     "output_type": "stream",
     "text": [
      "La medida máxima es: 1.6\n"
     ]
    }
   ],
   "source": [
    "arg2 = np.loadtxt('./4D2.csv',delimiter=\" \",dtype=np.float32)\n",
    "print(\"La medida máxima es:\", np.max(arg2))"
   ]
  },
  {
   "cell_type": "markdown",
   "id": "43e9e8b8",
   "metadata": {},
   "source": [
    "## El valor más pequeño"
   ]
  },
  {
   "cell_type": "code",
   "execution_count": 108,
   "id": "0310e9c4",
   "metadata": {},
   "outputs": [
    {
     "name": "stdout",
     "output_type": "stream",
     "text": [
      "El peso mínimo: 1.2\n"
     ]
    }
   ],
   "source": [
    "print(\"El peso mínimo:\", np.min(arg2))"
   ]
  },
  {
   "cell_type": "markdown",
   "id": "e4bcf1f2",
   "metadata": {},
   "source": [
    "## Obtuvieron 1.25(datos 2) o mas"
   ]
  },
  {
   "cell_type": "code",
   "execution_count": 109,
   "id": "8f758f44",
   "metadata": {},
   "outputs": [
    {
     "name": "stdout",
     "output_type": "stream",
     "text": [
      "La cantidad de tornillos de medida 1.25 o más es: 45\n"
     ]
    }
   ],
   "source": [
    "suma2 = np.where(arg2 >= 1.25, 1,0).sum()\n",
    "print(\"La cantidad de tornillos de medida 1.25 o más es:\",suma2)"
   ]
  },
  {
   "cell_type": "markdown",
   "id": "3ea012e4",
   "metadata": {},
   "source": [
    "## Obtuvieron 1.32(datos 2) o menos"
   ]
  },
  {
   "cell_type": "code",
   "execution_count": 110,
   "id": "3c11c105",
   "metadata": {},
   "outputs": [
    {
     "name": "stdout",
     "output_type": "stream",
     "text": [
      "La cantidad de tornillos de medida 1.32 o menos es: 16\n"
     ]
    }
   ],
   "source": [
    "suma2 = np.where(arg2 <= 1.32, 1,0).sum()\n",
    "print(\"La cantidad de tornillos de medida 1.32 o menos es:\",suma2)"
   ]
  },
  {
   "cell_type": "markdown",
   "id": "8ca57b14",
   "metadata": {},
   "source": [
    "## Porcentaje de valores (1.39 < x >= 1.41,dato2) "
   ]
  },
  {
   "cell_type": "code",
   "execution_count": 111,
   "id": "2e437c02",
   "metadata": {},
   "outputs": [
    {
     "name": "stdout",
     "output_type": "stream",
     "text": [
      "[1.41 1.39 1.39 1.4  1.41]\n",
      "El porcentaje es: 6.0 %\n"
     ]
    }
   ],
   "source": [
    "porcentaje2 = np.where((arg2 > 1.39) & (arg2 <= 1.41),1,0).sum()/np.size(arg1)\n",
    "valores2 = np.where((arg2 >= 1.39) & (arg2 <= 1.41))\n",
    "for i in valores2:\n",
    "    print(arg2[i])\n",
    "print(\"El porcentaje es:\",porcentaje2*100,\"%\")"
   ]
  },
  {
   "cell_type": "markdown",
   "id": "15ebddb5",
   "metadata": {},
   "source": [
    "## Frecuencias absolutas simples"
   ]
  },
  {
   "cell_type": "code",
   "execution_count": 112,
   "id": "d00e7221",
   "metadata": {
    "scrolled": true
   },
   "outputs": [
    {
     "name": "stdout",
     "output_type": "stream",
     "text": [
      "[1 1 1 2 1 1 4 1 2 2 1 1 1 2 1 2 2 2 1 3 2 2 2 2 1 1 2 3 1 1 1]\n"
     ]
    }
   ],
   "source": [
    "variables2,repetidas2 = np.unique(arg2,return_counts=True)\n",
    "frecuencias_absolutas_simples2 = repetidas2\n",
    "print(frecuencias_absolutas_simples2)"
   ]
  },
  {
   "cell_type": "markdown",
   "id": "34777773",
   "metadata": {},
   "source": [
    "## Frecuencias absolutas acumuladas"
   ]
  },
  {
   "cell_type": "code",
   "execution_count": 113,
   "id": "d588685c",
   "metadata": {},
   "outputs": [
    {
     "name": "stdout",
     "output_type": "stream",
     "text": [
      "[ 1  2  3  5  6  7 11 12 14 16 17 18 19 21 22 24 26 28 29 32 34 36 38 40\n",
      " 41 42 44 47 48 49 50]\n"
     ]
    }
   ],
   "source": [
    "frecuencias_absolutas_acumuladas2 = np.cumsum(frecuencias_absolutas_simples2)\n",
    "print(frecuencias_absolutas_acumuladas2)"
   ]
  },
  {
   "cell_type": "markdown",
   "id": "3ee75aef",
   "metadata": {},
   "source": [
    "## Frecuencias relativas simples"
   ]
  },
  {
   "cell_type": "code",
   "execution_count": 114,
   "id": "cccf0161",
   "metadata": {},
   "outputs": [
    {
     "name": "stdout",
     "output_type": "stream",
     "text": [
      "[2. 2. 2. 4. 2. 2. 8. 2. 4. 4. 2. 2. 2. 4. 2. 4. 4. 4. 2. 6. 4. 4. 4. 4.\n",
      " 2. 2. 4. 6. 2. 2. 2.]\n"
     ]
    }
   ],
   "source": [
    "frecuencias_relativas_simples2 = np.round((frecuencias_absolutas_simples2/np.size(arg2))*100)\n",
    "print(frecuencias_relativas_simples2)"
   ]
  },
  {
   "cell_type": "markdown",
   "id": "cf236b11",
   "metadata": {},
   "source": [
    "## Frecuencias relativas acumuladas"
   ]
  },
  {
   "cell_type": "code",
   "execution_count": 115,
   "id": "98e34c8a",
   "metadata": {},
   "outputs": [
    {
     "name": "stdout",
     "output_type": "stream",
     "text": [
      "[  2.   4.   6.  10.  12.  14.  22.  24.  28.  32.  34.  36.  38.  42.\n",
      "  44.  48.  52.  56.  58.  64.  68.  72.  76.  80.  82.  84.  88.  94.\n",
      "  96.  98. 100.]\n"
     ]
    }
   ],
   "source": [
    "frecuencias_relativas_acumuladas2 = np.cumsum(frecuencias_relativas_simples2)\n",
    "print(frecuencias_relativas_acumuladas2)"
   ]
  },
  {
   "cell_type": "markdown",
   "id": "04daadf7",
   "metadata": {},
   "source": [
    "## Media aritmética valores agrupados"
   ]
  },
  {
   "cell_type": "code",
   "execution_count": 116,
   "id": "9c291a2e",
   "metadata": {
    "scrolled": true
   },
   "outputs": [
    {
     "name": "stdout",
     "output_type": "stream",
     "text": [
      "1.417799997329712\n"
     ]
    }
   ],
   "source": [
    "ma_agrupados2 = variables2 * repetidas2\n",
    "print(np.sum(ma_agrupados2)/np.size(arg2))"
   ]
  },
  {
   "cell_type": "markdown",
   "id": "fb7bd0a0",
   "metadata": {},
   "source": [
    "## Media aritmética de valores no agrupados"
   ]
  },
  {
   "cell_type": "code",
   "execution_count": 117,
   "id": "3f45239b",
   "metadata": {
    "scrolled": true
   },
   "outputs": [
    {
     "name": "stdout",
     "output_type": "stream",
     "text": [
      "1.4177999877929688\n"
     ]
    }
   ],
   "source": [
    "print(np.sum(arg2)/np.size(arg2))"
   ]
  },
  {
   "cell_type": "markdown",
   "id": "d5ff32f1",
   "metadata": {},
   "source": [
    "## Media Geométrica"
   ]
  },
  {
   "cell_type": "code",
   "execution_count": 119,
   "id": "0e1619f6",
   "metadata": {},
   "outputs": [
    {
     "name": "stdout",
     "output_type": "stream",
     "text": [
      "**************** Datos agrupados *****************\n",
      "1.4128346475780003\n",
      "*************** Datos no agrupados ***************\n",
      "1.412834644503995\n",
      "******** Media Geométrica con statistics *********\n",
      "1.4128346475780003\n"
     ]
    }
   ],
   "source": [
    "print(\" Datos agrupados \".center(50,\"*\"))\n",
    "media_g_agrupados2=np.power(np.product(variables2**repetidas2),1/np.size(arg2))\n",
    "print(media_g_agrupados2)\n",
    "print(\" Datos no agrupados \".center(50,\"*\"))\n",
    "media_g_noagrupados2=np.power(np.product(arg2),1/np.size(arg2))\n",
    "print(media_g_noagrupados2)\n",
    "print(\" Media Geométrica con statistics \".center(50,\"*\"))\n",
    "print(sts.geometric_mean(arg2))"
   ]
  },
  {
   "cell_type": "markdown",
   "id": "b509b3ec",
   "metadata": {},
   "source": [
    "## Media Armónica H"
   ]
  },
  {
   "cell_type": "code",
   "execution_count": 120,
   "id": "749cc37c",
   "metadata": {
    "scrolled": false
   },
   "outputs": [
    {
     "name": "stdout",
     "output_type": "stream",
     "text": [
      "1.4078154270102639\n"
     ]
    }
   ],
   "source": [
    "print(sts.harmonic_mean(arg2))"
   ]
  },
  {
   "cell_type": "markdown",
   "id": "85696417",
   "metadata": {},
   "source": [
    "## Mediana"
   ]
  },
  {
   "cell_type": "code",
   "execution_count": 121,
   "id": "a0945b24",
   "metadata": {},
   "outputs": [
    {
     "name": "stdout",
     "output_type": "stream",
     "text": [
      "1.42\n"
     ]
    }
   ],
   "source": [
    "print(np.median(arg2))"
   ]
  },
  {
   "cell_type": "markdown",
   "id": "8030b4f4",
   "metadata": {},
   "source": [
    "## Moda"
   ]
  },
  {
   "cell_type": "code",
   "execution_count": 122,
   "id": "4d1cbaec",
   "metadata": {},
   "outputs": [
    {
     "name": "stdout",
     "output_type": "stream",
     "text": [
      "1.29\n"
     ]
    }
   ],
   "source": [
    "print(sts.mode(arg2))"
   ]
  },
  {
   "cell_type": "markdown",
   "id": "6b1a2bf4",
   "metadata": {},
   "source": [
    "## Múltiples Modas (si las hay)"
   ]
  },
  {
   "cell_type": "code",
   "execution_count": 123,
   "id": "66c7df99",
   "metadata": {},
   "outputs": [
    {
     "name": "stdout",
     "output_type": "stream",
     "text": [
      "[1.29]\n"
     ]
    }
   ],
   "source": [
    "print(sts.multimode(arg2))"
   ]
  },
  {
   "cell_type": "markdown",
   "id": "c6234918",
   "metadata": {},
   "source": [
    "## Cuartiles"
   ]
  },
  {
   "cell_type": "code",
   "execution_count": 124,
   "id": "93be2f1c",
   "metadata": {
    "scrolled": true
   },
   "outputs": [
    {
     "name": "stdout",
     "output_type": "stream",
     "text": [
      "[1.31, 1.42, 1.52]\n"
     ]
    }
   ],
   "source": [
    "print([round(q, 2) for q in sts.quantiles(arg2, n=4)])"
   ]
  },
  {
   "cell_type": "markdown",
   "id": "5f583678",
   "metadata": {},
   "source": [
    "## Deciles"
   ]
  },
  {
   "cell_type": "code",
   "execution_count": 125,
   "id": "1ccbd707",
   "metadata": {
    "scrolled": true
   },
   "outputs": [
    {
     "name": "stdout",
     "output_type": "stream",
     "text": [
      "[1.24, 1.29, 1.32, 1.39, 1.42, 1.49, 1.51, 1.54, 1.57]\n"
     ]
    }
   ],
   "source": [
    "print([round(q, 2) for q in sts.quantiles(arg2, n=10)])"
   ]
  },
  {
   "cell_type": "markdown",
   "id": "d132ebea",
   "metadata": {},
   "source": [
    "## Percentiles"
   ]
  },
  {
   "cell_type": "code",
   "execution_count": 126,
   "id": "1e6c24de",
   "metadata": {
    "scrolled": true
   },
   "outputs": [
    {
     "name": "stdout",
     "output_type": "stream",
     "text": [
      "[1.19, 1.2, 1.21, 1.22, 1.23, 1.23, 1.24, 1.24, 1.24, 1.24, 1.25, 1.25, 1.27, 1.28, 1.29, 1.29, 1.29, 1.29, 1.29, 1.29, 1.29, 1.29, 1.3, 1.3, 1.31, 1.31, 1.31, 1.31, 1.32, 1.32, 1.32, 1.33, 1.34, 1.34, 1.35, 1.36, 1.37, 1.38, 1.39, 1.39, 1.39, 1.39, 1.4, 1.4, 1.41, 1.41, 1.41, 1.41, 1.42, 1.42, 1.42, 1.43, 1.44, 1.44, 1.44, 1.45, 1.45, 1.47, 1.49, 1.49, 1.49, 1.49, 1.49, 1.5, 1.5, 1.5, 1.5, 1.51, 1.51, 1.51, 1.51, 1.52, 1.52, 1.52, 1.52, 1.53, 1.53, 1.53, 1.53, 1.54, 1.54, 1.55, 1.55, 1.56, 1.56, 1.56, 1.56, 1.57, 1.57, 1.57, 1.57, 1.57, 1.57, 1.58, 1.58, 1.59, 1.59, 1.6, 1.6]\n"
     ]
    }
   ],
   "source": [
    "print([round(q, 2) for q in sts.quantiles(arg2, n=100)])"
   ]
  },
  {
   "cell_type": "markdown",
   "id": "36f62a24",
   "metadata": {},
   "source": [
    "## Histograma"
   ]
  },
  {
   "cell_type": "code",
   "execution_count": 198,
   "id": "b79a9740",
   "metadata": {
    "scrolled": true
   },
   "outputs": [
    {
     "name": "stdout",
     "output_type": "stream",
     "text": [
      "(array([4., 2., 9., 2., 4., 6., 1., 9., 6.]), array([1.2   , 1.24  , 1.28  , 1.32  , 1.36  , 1.4   , 1.44  , 1.48  ,\n",
      "       1.5205, 1.561 ], dtype=float16), <BarContainer object of 9 artists>)\n"
     ]
    },
    {
     "data": {
      "image/png": "[encoded data removed]",
      "text/plain": [
       "<Figure size 432x288 with 1 Axes>"
      ]
     },
     "metadata": {
      "needs_background": "light"
     },
     "output_type": "display_data"
    }
   ],
   "source": [
    "arg2 = np.sort(np.reshape(arg2,np.size(arg2)))\n",
    "rango2=arg2[49]-arg2[0]\n",
    "intervalos2=rango2/10\n",
    "b2=np.arange(arg2[0],arg2[49],intervalos2,dtype=np.float16)\n",
    "fig2, ax2 = plt.subplots()\n",
    "intervalos_clase2=ax2.hist(arg2, bins=b2,range=(arg2[0],arg2[49]), linewidth=0.5, color=\"darkblue\", edgecolor=\"white\")\n",
    "ax2.set_facecolor('black')\n",
    "plt.xticks(fontsize=8)\n",
    "ax2.set(xlim=(1.162, 1.605), xticks=intervalos_clase2[1],\n",
    "       ylim=(0, 10), yticks=np.arange(1, 10, 1,dtype=np.int16))\n",
    "print(intervalos_clase2)\n",
    "ax2.grid(axis='y')"
   ]
  }
 ],
 "metadata": {
  "kernelspec": {
   "display_name": "Python 3 (ipykernel)",
   "language": "python",
   "name": "python3"
  },
  "language_info": {
   "codemirror_mode": {
    "name": "ipython",
    "version": 3
   },
   "file_extension": ".py",
   "mimetype": "text/x-python",
   "name": "python",
   "nbconvert_exporter": "python",
   "pygments_lexer": "ipython3",
   "version": "3.9.12"
  }
 },
 "nbformat": 4,
 "nbformat_minor": 5
}
