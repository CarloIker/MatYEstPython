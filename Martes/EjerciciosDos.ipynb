{
 "cells": [
  {
   "cell_type": "markdown",
   "id": "e2748a7c",
   "metadata": {},
   "source": [
    "# <font color=\"darkblue\">IMPORT</font>"
   ]
  },
  {
   "cell_type": "code",
   "execution_count": 63,
   "id": "d4cb13db",
   "metadata": {},
   "outputs": [],
   "source": [
    "import numpy as np\n",
    "import math"
   ]
  },
  {
   "cell_type": "markdown",
   "id": "dfc7caed",
   "metadata": {},
   "source": [
    "# <font color=\"darkblue\"> Ejercicio Dos Uno</font>"
   ]
  },
  {
   "cell_type": "code",
   "execution_count": 64,
   "id": "b34f3d75",
   "metadata": {
    "scrolled": true
   },
   "outputs": [],
   "source": [
    "A = np.array([[1,4],[-1,3],[2,-9]])\n",
    "cero = np.zeros((3,2))"
   ]
  },
  {
   "cell_type": "markdown",
   "id": "12cc135d",
   "metadata": {},
   "source": [
    "## <font color=\"gold\">a) A + 0 = A - 0 = A</font>"
   ]
  },
  {
   "cell_type": "code",
   "execution_count": 67,
   "id": "cbe79256",
   "metadata": {},
   "outputs": [
    {
     "name": "stdout",
     "output_type": "stream",
     "text": [
      "*********** A + 0 ************\n",
      "[[ 1  4]\n",
      " [-1  3]\n",
      " [ 2 -9]]\n",
      "*********** A - 0 ************\n",
      "[[ 1  4]\n",
      " [-1  3]\n",
      " [ 2 -9]]\n"
     ]
    }
   ],
   "source": [
    "print(\" A + 0 \".center(30,\"*\"))\n",
    "r = A + 0\n",
    "print(r)\n",
    "print(\" A - 0 \".center(30,\"*\"))\n",
    "r = A - 0\n",
    "print(r)"
   ]
  },
  {
   "cell_type": "markdown",
   "id": "af58f8ea",
   "metadata": {},
   "source": [
    "## <font color=\"gold\">b) A - A = 0</font>"
   ]
  },
  {
   "cell_type": "code",
   "execution_count": 66,
   "id": "bc9ba21a",
   "metadata": {
    "scrolled": true
   },
   "outputs": [
    {
     "name": "stdout",
     "output_type": "stream",
     "text": [
      "[[0 0]\n",
      " [0 0]\n",
      " [0 0]]\n"
     ]
    }
   ],
   "source": [
    "r = A - A\n",
    "print(r)"
   ]
  },
  {
   "cell_type": "markdown",
   "id": "b23fedec",
   "metadata": {},
   "source": [
    "# <font color=\"darkblue\">Ejercicio Dos Dos</font>"
   ]
  },
  {
   "cell_type": "code",
   "execution_count": 94,
   "id": "75faa24c",
   "metadata": {},
   "outputs": [],
   "source": [
    "A = np.array([[3,0],[-1,5]])\n",
    "B = np.array([[4,-2,1],[0,2,3]])"
   ]
  },
  {
   "cell_type": "markdown",
   "id": "6b875827",
   "metadata": {},
   "source": [
    "## <font color=\"gold\">a) A + 3B</font>"
   ]
  },
  {
   "cell_type": "markdown",
   "id": "a2d5f2e3",
   "metadata": {},
   "source": [
    "Al tener 2 matrices de diferentes dimensiones, no es posible realizar la operación de suma, sin embargo, si podemos hacer el producto de la matriz \"B\" por el número correspondiente (3).\n",
    "Las matrices están descritas de la siguiente forma:\n",
    "- A = A_2x2\n",
    "- B = B_2x3\n",
    "Lo que nos quedaría como:\n",
    "- A + B = A_2X2 + B_2x3\n",
    "\n",
    "Esto nos indica que una de las únicas operaciones posibles entre estas dos es un producto matricial."
   ]
  },
  {
   "cell_type": "code",
   "execution_count": 72,
   "id": "374f6e78",
   "metadata": {},
   "outputs": [
    {
     "name": "stdout",
     "output_type": "stream",
     "text": [
      "[[12 -6  3]\n",
      " [ 0  6  9]]\n",
      "No es posible realizar la operación\n"
     ]
    }
   ],
   "source": [
    "producto = 3 * B\n",
    "print(C)\n",
    "try:\n",
    "    r = A + producto\n",
    "    print(r)\n",
    "except ValueError:\n",
    "    print(\"No es posible realizar la operación\")"
   ]
  },
  {
   "cell_type": "markdown",
   "id": "07a1a75d",
   "metadata": {},
   "source": [
    "<font color=\"red\"><b>POSIBLE SOLUCIÓN</b></font>"
   ]
  },
  {
   "cell_type": "code",
   "execution_count": 98,
   "id": "35129ad0",
   "metadata": {
    "scrolled": false
   },
   "outputs": [
    {
     "name": "stdout",
     "output_type": "stream",
     "text": [
      "[[51 15  6]\n",
      " [ 4 16 31]]\n"
     ]
    }
   ],
   "source": [
    "C = 3 * B # Matriz para multiplicar 3 * B\n",
    "D = np.array([[1,1,1],[1,1,1]]) # Matriz para convertir A de (2x2) a (2x3)\n",
    "E = C * B # Producto de 3 * B\n",
    "F = A@D # Producto para la redimensionamiento de A\n",
    "r = F + E # Realizamos la suma\n",
    "print(r)"
   ]
  },
  {
   "cell_type": "markdown",
   "id": "5fd40304",
   "metadata": {},
   "source": [
    "## <font color=\"gold\">b) AB</font>"
   ]
  },
  {
   "cell_type": "code",
   "execution_count": 12,
   "id": "a5244166",
   "metadata": {},
   "outputs": [
    {
     "name": "stdout",
     "output_type": "stream",
     "text": [
      "[[12 -6  3]\n",
      " [-4 12 14]]\n"
     ]
    }
   ],
   "source": [
    "r = A@B\n",
    "print(r)"
   ]
  },
  {
   "cell_type": "markdown",
   "id": "f2595302",
   "metadata": {},
   "source": [
    "## <font color=\"gold\">c) A^3</font>"
   ]
  },
  {
   "cell_type": "code",
   "execution_count": 62,
   "id": "946e7f9d",
   "metadata": {},
   "outputs": [
    {
     "name": "stdout",
     "output_type": "stream",
     "text": [
      "[[ 27   0]\n",
      " [-49 125]]\n"
     ]
    }
   ],
   "source": [
    "r = np.linalg.matrix_power(A,3)\n",
    "print(r)"
   ]
  },
  {
   "cell_type": "markdown",
   "id": "f258218b",
   "metadata": {},
   "source": [
    "## <font color=\"gold\">d) B^2</font>"
   ]
  },
  {
   "cell_type": "code",
   "execution_count": 81,
   "id": "0c453610",
   "metadata": {},
   "outputs": [
    {
     "name": "stdout",
     "output_type": "stream",
     "text": [
      "Las matriz no es cuadrada\n"
     ]
    }
   ],
   "source": [
    "try:\n",
    "    r = np.linalg.matrix_power(B,2)\n",
    "    print(r)\n",
    "except Exception:\n",
    "    print(\"Las matriz no es cuadrada\")"
   ]
  },
  {
   "cell_type": "markdown",
   "id": "b69c3eff",
   "metadata": {},
   "source": [
    "## <font color=\"gold\">e) (5A)B</font>"
   ]
  },
  {
   "cell_type": "code",
   "execution_count": 110,
   "id": "b5ec99c6",
   "metadata": {},
   "outputs": [
    {
     "name": "stdout",
     "output_type": "stream",
     "text": [
      "[[ 60 -30  15]\n",
      " [-20  60  70]]\n"
     ]
    }
   ],
   "source": [
    "r = (5*A)@B\n",
    "print(r)"
   ]
  },
  {
   "cell_type": "markdown",
   "id": "f393d675",
   "metadata": {},
   "source": [
    "# <font color=\"darkblue\">Ejercicio Dos Tres</font>"
   ]
  },
  {
   "cell_type": "code",
   "execution_count": 82,
   "id": "a32bf061",
   "metadata": {
    "scrolled": true
   },
   "outputs": [
    {
     "name": "stdout",
     "output_type": "stream",
     "text": [
      "********** Tiendas ***********\n",
      "[[1.2 1.3]\n",
      " [2.2 2.1]\n",
      " [4.5 4.6]]\n",
      "****** Costo por Tienda ******\n",
      "[[ 87.   88.9]\n",
      " [105.6 107.1]]\n",
      "********** Elección **********\n",
      "Tienda 1 192.6\n",
      "Tienda 2 196.0\n"
     ]
    }
   ],
   "source": [
    "restaurantes=np.array([[30,15,4],[25,18,8]])\n",
    "tiendas=np.array([[1.2,2.2,4.5],[1.3,2.1,4.6]])\n",
    "print(\" Tiendas \".center(30,\"*\"))\n",
    "print(tiendas.T)\n",
    "costoPorTienda=restaurantes@tiendas.T\n",
    "print(\" Costo por Tienda \".center(30,\"*\"))\n",
    "print(costoPorTienda)\n",
    "print(\" Elección \".center(30,\"*\"))\n",
    "print(\"Tienda 1\", (costoPorTienda[0,0]+costoPorTienda[1,0]))\n",
    "print(\"Tienda 2\", (costoPorTienda[0,1]+costoPorTienda[1,1]))"
   ]
  },
  {
   "cell_type": "markdown",
   "id": "71d36a3e",
   "metadata": {},
   "source": [
    "# <font color=\"darkblue\">Ejercicio Dos Cuatro</font>"
   ]
  },
  {
   "cell_type": "code",
   "execution_count": 134,
   "id": "57259c4d",
   "metadata": {},
   "outputs": [
    {
     "name": "stdout",
     "output_type": "stream",
     "text": [
      "************* Costo de almacen por transporte **************\n",
      "Almacen 1:\t(Camión)650.0 \n",
      "\t\t(Tren)462.5\n",
      "\n",
      "Almacen 2:\t(Camión)675.0 \n",
      "\t\t(Tren)406.25\n",
      "************************* Elección *************************\n",
      "Camión $1112.5\n",
      "Tren $1081.25\n"
     ]
    }
   ],
   "source": [
    "productos = np.array([[200,75],[150,100],[100,125]])\n",
    "transportes = np.array([[1.50,1.00,2.00],[1.75,1.50,1.00]])\n",
    "costoPorTransporte = productos.T @ transportes.T\n",
    "print(\" Costo de almacen por transporte \".center(60,\"*\"))\n",
    "print(f\"Almacen 1:\\t(Camión){costoPorTransporte[0,0]} \\n\\t\\t(Tren){costoPorTransporte[1,0]}\" )\n",
    "print()\n",
    "print(f\"Almacen 2:\\t(Camión){costoPorTransporte[0,1]} \\n\\t\\t(Tren){costoPorTransporte[1,1]}\" )\n",
    "print(\" Elección \".center(60,\"*\"))\n",
    "print(f\"Camión ${costoPorTransporte[0,0]+costoPorTransporte[1,0]}\")\n",
    "print(f\"Tren ${costoPorTransporte[0,1]+costoPorTransporte[1,1]}\")"
   ]
  },
  {
   "cell_type": "markdown",
   "id": "d6fb527d",
   "metadata": {},
   "source": [
    "# <font color=\"darkblue\">Ejercicio Dos Cinco</font>"
   ]
  },
  {
   "cell_type": "code",
   "execution_count": 137,
   "id": "8a15a465",
   "metadata": {},
   "outputs": [
    {
     "name": "stdout",
     "output_type": "stream",
     "text": [
      "x=0.17024446400758358 \n",
      "y=-1.173020925035551 \n",
      "z=-2.205999864562878\n"
     ]
    }
   ],
   "source": [
    "coeficientes = np.array([[3, 2, 0],[6, 4, 0],[1, 1, 0],[1, -4, 0],[2, -1, 2],[2, 3, -1],[1, 2, 2]])\n",
    "independientes = np.array([6, -9, 3, 1, 3, 0, -12])\n",
    "r = np.linalg.lstsq(coeficientes, independientes, rcond=None)[0]\n",
    "print(f\"x={r[0]} \\ny={r[1]} \\nz={r[2]}\")"
   ]
  }
 ],
 "metadata": {
  "kernelspec": {
   "display_name": "Python 3 (ipykernel)",
   "language": "python",
   "name": "python3"
  },
  "language_info": {
   "codemirror_mode": {
    "name": "ipython",
    "version": 3
   },
   "file_extension": ".py",
   "mimetype": "text/x-python",
   "name": "python",
   "nbconvert_exporter": "python",
   "pygments_lexer": "ipython3",
   "version": "3.9.12"
  }
 },
 "nbformat": 4,
 "nbformat_minor": 5
}
