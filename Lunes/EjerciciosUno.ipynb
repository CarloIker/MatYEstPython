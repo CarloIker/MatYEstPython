{
 "cells": [
  {
   "cell_type": "markdown",
   "id": "c885d01a",
   "metadata": {},
   "source": [
    "# Ejercicio Uno Uno"
   ]
  },
  {
   "cell_type": "code",
   "execution_count": 2,
   "id": "42015002",
   "metadata": {},
   "outputs": [],
   "source": [
    "import math"
   ]
  },
  {
   "cell_type": "code",
   "execution_count": 5,
   "id": "ad633ff3",
   "metadata": {},
   "outputs": [
    {
     "name": "stdout",
     "output_type": "stream",
     "text": [
      "11\n"
     ]
    }
   ],
   "source": [
    "print(math.ceil(math.log(2000,2)))"
   ]
  },
  {
   "cell_type": "markdown",
   "id": "5fe446a4",
   "metadata": {},
   "source": [
    "# Ejercicio Uno Dos"
   ]
  },
  {
   "cell_type": "code",
   "execution_count": 6,
   "id": "f1b81e26",
   "metadata": {
    "scrolled": true
   },
   "outputs": [
    {
     "name": "stdout",
     "output_type": "stream",
     "text": [
      "1.0\n"
     ]
    }
   ],
   "source": [
    "print(math.log(2,2)+math.log(1,2))"
   ]
  },
  {
   "cell_type": "markdown",
   "id": "2b9ed894",
   "metadata": {},
   "source": [
    "# Ejercicio Uno Tres"
   ]
  },
  {
   "cell_type": "code",
   "execution_count": 4,
   "id": "479ac95f",
   "metadata": {},
   "outputs": [
    {
     "name": "stdout",
     "output_type": "stream",
     "text": [
      "--------90---------\n",
      "6.123233995736766e-17\n",
      "1.0\n",
      "--------135---------\n",
      "-0.7071067811865475\n",
      "0.7071067811865476\n",
      "--------330---------\n",
      "0.8660254037844384\n",
      "-0.5000000000000004\n",
      "--------750---------\n",
      "0.8660254037844392\n",
      "0.4999999999999991\n"
     ]
    }
   ],
   "source": [
    "print(\"--------90---------\")\n",
    "radianes=(math.pi/180)*90\n",
    "print(math.cos(radianes))\n",
    "print(math.sin(radianes))\n",
    "print(\"--------135---------\")\n",
    "radianes=(math.pi/180)*135\n",
    "print(math.cos(radianes))\n",
    "print(math.sin(radianes))\n",
    "print(\"--------330---------\")\n",
    "radianes=(math.pi/180)*330\n",
    "print(math.cos(radianes))\n",
    "print(math.sin(radianes))\n",
    "print(\"--------750---------\")\n",
    "radianes=(math.pi/180)*750\n",
    "print(math.cos(radianes))\n",
    "print(math.sin(radianes))"
   ]
  },
  {
   "cell_type": "markdown",
   "id": "3b73800e",
   "metadata": {},
   "source": [
    "# Ejercicio Uno Cuatro"
   ]
  },
  {
   "cell_type": "code",
   "execution_count": 9,
   "id": "c068648f",
   "metadata": {},
   "outputs": [
    {
     "name": "stdout",
     "output_type": "stream",
     "text": [
      "11232000\n"
     ]
    }
   ],
   "source": [
    "print(math.perm(26,3)*math.perm(10,3))"
   ]
  },
  {
   "cell_type": "code",
   "execution_count": 10,
   "id": "48df42e9",
   "metadata": {},
   "outputs": [
    {
     "name": "stdout",
     "output_type": "stream",
     "text": [
      "17576000.0\n"
     ]
    }
   ],
   "source": [
    "print(math.pow(26,3)*math.pow(10,3))"
   ]
  },
  {
   "cell_type": "markdown",
   "id": "9f2945a6",
   "metadata": {},
   "source": [
    "# Ejercicio Uno Cinco"
   ]
  },
  {
   "cell_type": "code",
   "execution_count": 11,
   "id": "f949a97a",
   "metadata": {},
   "outputs": [
    {
     "name": "stdout",
     "output_type": "stream",
     "text": [
      "10\n"
     ]
    }
   ],
   "source": [
    "print(math.comb(5,3))"
   ]
  }
 ],
 "metadata": {
  "kernelspec": {
   "display_name": "Python 3 (ipykernel)",
   "language": "python",
   "name": "python3"
  },
  "language_info": {
   "codemirror_mode": {
    "name": "ipython",
    "version": 3
   },
   "file_extension": ".py",
   "mimetype": "text/x-python",
   "name": "python",
   "nbconvert_exporter": "python",
   "pygments_lexer": "ipython3",
   "version": "3.9.12"
  }
 },
 "nbformat": 4,
 "nbformat_minor": 5
}
