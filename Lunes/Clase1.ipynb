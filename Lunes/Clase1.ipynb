{
 "cells": [
  {
   "cell_type": "markdown",
   "id": "db2b33b0",
   "metadata": {},
   "source": [
    "#Inicio de clase"
   ]
  },
  {
   "cell_type": "markdown",
   "id": "e1b1af72",
   "metadata": {},
   "source": [
    "# Tipo de Datos con Python"
   ]
  },
  {
   "cell_type": "code",
   "execution_count": 6,
   "id": "a444074b",
   "metadata": {},
   "outputs": [],
   "source": [
    "from decimal import Decimal\n",
    "from decimal import getcontext\n",
    "from decimal import localcontext\n",
    "from fractions import Fraction\n",
    "import math\n",
    "ctx=getcontext()"
   ]
  },
  {
   "cell_type": "markdown",
   "id": "d306b723",
   "metadata": {},
   "source": [
    "## Tipo de Dato Decimal"
   ]
  },
  {
   "cell_type": "code",
   "execution_count": 8,
   "id": "53a0de23",
   "metadata": {},
   "outputs": [
    {
     "name": "stdout",
     "output_type": "stream",
     "text": [
      "1.4641\n"
     ]
    }
   ],
   "source": [
    "num1=Decimal('1.1')\n",
    "print(num1**4)"
   ]
  },
  {
   "cell_type": "code",
   "execution_count": 9,
   "id": "32d60f45",
   "metadata": {},
   "outputs": [
    {
     "name": "stdout",
     "output_type": "stream",
     "text": [
      "1.46\n"
     ]
    }
   ],
   "source": [
    "ctx.prec=3\n",
    "print(num1**4)"
   ]
  },
  {
   "cell_type": "code",
   "execution_count": 10,
   "id": "6856f3c6",
   "metadata": {},
   "outputs": [
    {
     "name": "stdout",
     "output_type": "stream",
     "text": [
      "1.5\n",
      "1.46\n"
     ]
    }
   ],
   "source": [
    "with localcontext() as ctx:\n",
    "    ctx.prec=2\n",
    "    print(num1**4)\n",
    "print(num1**4)"
   ]
  },
  {
   "cell_type": "code",
   "execution_count": 13,
   "id": "28255793",
   "metadata": {},
   "outputs": [
    {
     "name": "stdout",
     "output_type": "stream",
     "text": [
      "(4+2j)\n"
     ]
    }
   ],
   "source": [
    "z = 1 + 2j\n",
    "print(z + 3)"
   ]
  },
  {
   "cell_type": "code",
   "execution_count": 14,
   "id": "a6d56193",
   "metadata": {},
   "outputs": [
    {
     "name": "stdout",
     "output_type": "stream",
     "text": [
      "7/10\n"
     ]
    }
   ],
   "source": [
    "num2 = Fraction(1,2)\n",
    "num3 = Fraction(1,5)\n",
    "print(num2 + num3)"
   ]
  },
  {
   "cell_type": "code",
   "execution_count": 16,
   "id": "a5ddc260",
   "metadata": {},
   "outputs": [
    {
     "name": "stdout",
     "output_type": "stream",
     "text": [
      "8.0\n"
     ]
    }
   ],
   "source": [
    "print(math.sqrt(64))"
   ]
  },
  {
   "cell_type": "code",
   "execution_count": 18,
   "id": "1d48c970",
   "metadata": {},
   "outputs": [
    {
     "name": "stdout",
     "output_type": "stream",
     "text": [
      "0.7071067811865475\n",
      "0.7071067811865476\n",
      "0.9999999999999999\n"
     ]
    }
   ],
   "source": [
    "theta = math.pi/4\n",
    "print(math.sin(theta))\n",
    "print(math.cos(theta))\n",
    "print(math.tan(theta))"
   ]
  },
  {
   "cell_type": "code",
   "execution_count": 21,
   "id": "4ba64ee1",
   "metadata": {
    "scrolled": true
   },
   "outputs": [
    {
     "name": "stdout",
     "output_type": "stream",
     "text": [
      "1.0\n",
      "2.0\n",
      "2.302585092994046\n"
     ]
    }
   ],
   "source": [
    "print(math.log(10,10))\n",
    "print(math.log(25,5))\n",
    "print(math.log(10)) #base e"
   ]
  },
  {
   "cell_type": "code",
   "execution_count": 22,
   "id": "c2a9edfe",
   "metadata": {},
   "outputs": [
    {
     "name": "stdout",
     "output_type": "stream",
     "text": [
      "2\n"
     ]
    }
   ],
   "source": [
    "print(math.gcd(2,4,8))"
   ]
  },
  {
   "cell_type": "code",
   "execution_count": 26,
   "id": "12efe265",
   "metadata": {},
   "outputs": [
    {
     "name": "stdout",
     "output_type": "stream",
     "text": [
      "3\n",
      "6\n",
      "24\n"
     ]
    }
   ],
   "source": [
    "print(math.comb(3,2))\n",
    "print(math.perm(3,2))\n",
    "print(math.factorial(4))"
   ]
  },
  {
   "cell_type": "code",
   "execution_count": 30,
   "id": "19933529",
   "metadata": {},
   "outputs": [
    {
     "name": "stdout",
     "output_type": "stream",
     "text": [
      "[0.1, 0.1, 0.1, 0.1, 0.1, 0.1, 0.1, 0.1, 0.1, 0.1]\n",
      "0.9999999999999999\n",
      "1.0\n"
     ]
    }
   ],
   "source": [
    "listNum = [.1]*10\n",
    "print(listNum)\n",
    "print(sum(listNum))\n",
    "print(math.fsum(listNum))"
   ]
  },
  {
   "cell_type": "code",
   "execution_count": 31,
   "id": "758ab15f",
   "metadata": {},
   "outputs": [
    {
     "name": "stdout",
     "output_type": "stream",
     "text": [
      "1\n",
      "2\n"
     ]
    }
   ],
   "source": [
    "print(math.floor(1.65))\n",
    "print(math.ceil(1.3))"
   ]
  }
 ],
 "metadata": {
  "kernelspec": {
   "display_name": "Python 3 (ipykernel)",
   "language": "python",
   "name": "python3"
  },
  "language_info": {
   "codemirror_mode": {
    "name": "ipython",
    "version": 3
   },
   "file_extension": ".py",
   "mimetype": "text/x-python",
   "name": "python",
   "nbconvert_exporter": "python",
   "pygments_lexer": "ipython3",
   "version": "3.9.12"
  }
 },
 "nbformat": 4,
 "nbformat_minor": 5
}
